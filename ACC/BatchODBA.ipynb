{
 "cells": [
  {
   "cell_type": "markdown",
   "metadata": {},
   "source": [
    "# Batched ODBA\n",
    "\n",
    "This script runs through a directory containing accelerometer files and extracts ODBA as a feature. \n"
   ]
  },
  {
   "cell_type": "code",
   "execution_count": 2,
   "metadata": {},
   "outputs": [],
   "source": [
    "#dependencies\n",
    "import numpy\n",
    "import pylab\n",
    "import csv\n",
    "import os"
   ]
  },
  {
   "cell_type": "markdown",
   "metadata": {},
   "source": [
    "Tweak here to change directories etc"
   ]
  },
  {
   "cell_type": "code",
   "execution_count": 50,
   "metadata": {},
   "outputs": [],
   "source": [
    "# where to find files\n",
    "indir = \"C:\\\\CloudProjects\\\\2019\\\\Research\\\\Projects\\\\OpenWild\\\\Deployments\\\\BadgerMay2019\\\\Tests\\\\output\\\\\"\n",
    "# where to put the processed data\n",
    "outdir = \"C:\\\\CloudProjects\\\\2020\\\\Research\\\\Projects\\\\OpenWild\\\\Tests\\\\BadgerODBA\\\\\"\n",
    "# what the inputfile looks like\n",
    "inpattern = \"ACC303_%d.csv\"\n",
    "# what the outputfile should be\n",
    "outpattern = \"ODBA_%d.csv\"\n",
    "# ODBA is typically computed over a 2 second window, but this is a fairly arbitrary decision\n",
    "windowsize = 50 "
   ]
  },
  {
   "cell_type": "markdown",
   "metadata": {},
   "source": [
    "You should not need to touch anything below here - just run the whole notebook to process a directory"
   ]
  },
  {
   "cell_type": "code",
   "execution_count": 51,
   "metadata": {},
   "outputs": [],
   "source": [
    "# Scan through a directory and extract everything that matches filepattern\n",
    "# store in the accfiles list\n",
    "filelist = os.listdir(indir)\n",
    "accfiles = []\n",
    "for f in filelist:\n",
    "    # here we use the underscore '_' to ensure the file prefixes are the same - modify as needed\n",
    "    if f.split('_')[0] == filepattern.split('_')[0]:\n",
    "        accfiles.append(f)"
   ]
  },
  {
   "cell_type": "code",
   "execution_count": 64,
   "metadata": {},
   "outputs": [],
   "source": [
    "def read_acc_csv(filename,directory):\n",
    "    \"\"\"This function reads a filename in a particular directory and returns all the accelerometer data as an array\"\"\"\n",
    "    f = open(os.path.join(directory,filename),'r')\n",
    "    reader = csv.DictReader(f)\n",
    "    acc_array = []\n",
    "    for row in reader:\n",
    "        acc_vec = [float(row['x']),float(row['y']),float(row['z'])]\n",
    "        acc_array.append(acc_vec)\n",
    "    f.close()\n",
    "    return numpy.array(acc_array)"
   ]
  },
  {
   "cell_type": "code",
   "execution_count": 69,
   "metadata": {},
   "outputs": [],
   "source": [
    "def write_acc_csv(filename,directory,odba):\n",
    "    \"\"\"This function dumps an array of ODBA values to an output file\"\"\"\n",
    "    # we have to set newline = '' because windows is funky\n",
    "    f = open(os.path.join(directory,filename),'w',newline='')\n",
    "    writer = csv.DictWriter(f,['ODBA'])\n",
    "    writer.writeheader()\n",
    "    for row in odba:\n",
    "        writer.writerow({'ODBA':row})\n",
    "    f.close()"
   ]
  },
  {
   "cell_type": "code",
   "execution_count": 70,
   "metadata": {},
   "outputs": [],
   "source": [
    "def vec_to_odba(window):\n",
    "    \"\"\"This function takes in a window of accelerometer values and returns ODBA over the window\"\"\"\n",
    "    X = window[:,0]\n",
    "    Y = window[:,1]\n",
    "    Z = window[:,2]\n",
    "    numRows = len(X)\n",
    "    # Simple moving average \n",
    "    ave_x = numpy.mean(X)\n",
    "    ave_y = numpy.mean(Y)\n",
    "    ave_z = numpy.mean(Z)\n",
    "    # subtract the average from all the points in the window\n",
    "    detrend_x = X-ave_x\n",
    "    detrend_y = Y-ave_y\n",
    "    detrend_z = Z-ave_z\n",
    "    # calculate the ODBA value (1-norm)\n",
    "    odba_value = numpy.mean(abs(detrend_x)) + numpy.mean(abs(detrend_y)) + numpy.mean(abs(detrend_z))\n",
    "    # store into the ODBA array        \n",
    "    return odba_value"
   ]
  },
  {
   "cell_type": "code",
   "execution_count": 71,
   "metadata": {},
   "outputs": [],
   "source": [
    "def compute_odba(inputdata,windowlen=25):\n",
    "    odba_array = []\n",
    "    for idx in range(1,len(inputdata)-windowlen,windowlen):\n",
    "        window = inputdata[idx:idx+windowlen,:]\n",
    "        odba_val = vec_to_odba(window)\n",
    "        odba_array.append(odba_val)\n",
    "    return numpy.array(odba_array)"
   ]
  },
  {
   "cell_type": "code",
   "execution_count": 75,
   "metadata": {},
   "outputs": [
    {
     "name": "stdout",
     "output_type": "stream",
     "text": [
      "ACC303_0.csv -> ODBA_0.csv\n",
      "ACC303_100.csv -> ODBA_100.csv\n",
      "ACC303_300.csv -> ODBA_300.csv\n",
      "ACC303_400.csv -> ODBA_400.csv\n",
      "ACC303_500.csv -> ODBA_500.csv\n",
      "ACC303_600.csv -> ODBA_600.csv\n",
      "ACC303_700.csv -> ODBA_700.csv\n",
      "ACC303_800.csv -> ODBA_800.csv\n"
     ]
    }
   ],
   "source": [
    "for f in accfiles:\n",
    "    timestamp = os.path.splitext(f)[0].split('_')[1]\n",
    "    outfile = outpattern%int(timestamp)\n",
    "    print(f,\"->\",outfile)\n",
    "    acc_array = read_acc_csv(f,indir)\n",
    "    odba = compute_odba(acc_array,windowlen=windowsize)\n",
    "    write_acc_csv(outfile,outdir,odba)\n",
    "    \n",
    "    \n",
    "    "
   ]
  },
  {
   "cell_type": "code",
   "execution_count": null,
   "metadata": {},
   "outputs": [],
   "source": []
  }
 ],
 "metadata": {
  "kernelspec": {
   "display_name": "Python 3",
   "language": "python",
   "name": "python3"
  },
  "language_info": {
   "codemirror_mode": {
    "name": "ipython",
    "version": 3
   },
   "file_extension": ".py",
   "mimetype": "text/x-python",
   "name": "python",
   "nbconvert_exporter": "python",
   "pygments_lexer": "ipython3",
   "version": "3.6.8"
  }
 },
 "nbformat": 4,
 "nbformat_minor": 2
}
